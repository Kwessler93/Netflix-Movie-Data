{
 "cells": [
  {
   "cell_type": "markdown",
   "id": "169e034a",
   "metadata": {},
   "source": [
    "{\"username\":\"chrisdobbin\",\"key\":\"8b6b84bc6ac4f8412482b9155510799d\"}"
   ]
  },
  {
   "cell_type": "code",
   "execution_count": null,
   "id": "0898505a",
   "metadata": {},
   "outputs": [],
   "source": [
    "#pip install pytrends"
   ]
  },
  {
   "cell_type": "code",
   "execution_count": 6,
   "id": "4d2318f8",
   "metadata": {},
   "outputs": [],
   "source": [
    "import pandas as pd\n",
    "from pytrends.request import TrendReq\n",
    "import time\n",
    "\n"
   ]
  },
  {
   "cell_type": "code",
   "execution_count": null,
   "id": "3d132edc",
   "metadata": {},
   "outputs": [
    {
     "name": "stdout",
     "output_type": "stream",
     "text": [
      "            Oxygen  isPartial\n",
      "date                         \n",
      "2020-04-05      23      False\n",
      "2020-04-12      21      False\n",
      "2020-04-19      23      False\n",
      "2020-04-26      22      False\n",
      "2020-05-03      21      False\n"
     ]
    },
    {
     "name": "stderr",
     "output_type": "stream",
     "text": [
      "c:\\Users\\chris\\anaconda3\\envs\\dev\\lib\\site-packages\\pytrends\\request.py:260: FutureWarning: Downcasting object dtype arrays on .fillna, .ffill, .bfill is deprecated and will change in a future version. Call result.infer_objects(copy=False) instead. To opt-in to the future behavior, set `pd.set_option('future.no_silent_downcasting', True)`\n",
      "  df = df.fillna(False)\n"
     ]
    }
   ],
   "source": [
    "\"\"\"pytrends = TrendReq(hl='en-US', tz=360, timeout=(10,25))\n",
    "    pytrends.build_payload(kw_list, cat=0, timeframe='today 5-y', geo='', gprop='')\n",
    "    retries = 0\n",
    "      try:\n",
    "           data = pytrends.interest_over_time()\n",
    "            return data\n",
    "        except Exception as e:\n",
    "            print(f\"Error occurred: {e}. Retrying in {60 * (retries + 1)} seconds...\")\n",
    "            time.sleep(60 * (retries + 1))\n",
    "\n",
    "            retries += 1\n",
    "    raise Exception(\"Max retries reached. Unable to fetch trends data.\")\n",
    "\n",
    "kw_list = [\"Oxygen\"]\n",
    "data = fetch_trends(kw_list)\n",
    "print(data.head())\"\"\"\n"
   ]
  },
  {
   "cell_type": "code",
   "execution_count": null,
   "id": "d9164922",
   "metadata": {},
   "outputs": [
    {
     "name": "stderr",
     "output_type": "stream",
     "text": [
      "c:\\Users\\chris\\anaconda3\\envs\\dev\\lib\\site-packages\\pytrends\\request.py:260: FutureWarning: Downcasting object dtype arrays on .fillna, .ffill, .bfill is deprecated and will change in a future version. Call result.infer_objects(copy=False) instead. To opt-in to the future behavior, set `pd.set_option('future.no_silent_downcasting', True)`\n",
      "  df = df.fillna(False)\n"
     ]
    },
    {
     "data": {
      "text/html": [
       "<div>\n",
       "<style scoped>\n",
       "    .dataframe tbody tr th:only-of-type {\n",
       "        vertical-align: middle;\n",
       "    }\n",
       "\n",
       "    .dataframe tbody tr th {\n",
       "        vertical-align: top;\n",
       "    }\n",
       "\n",
       "    .dataframe thead th {\n",
       "        text-align: right;\n",
       "    }\n",
       "</style>\n",
       "<table border=\"1\" class=\"dataframe\">\n",
       "  <thead>\n",
       "    <tr style=\"text-align: right;\">\n",
       "      <th></th>\n",
       "      <th>Ferry</th>\n",
       "      <th>isPartial</th>\n",
       "    </tr>\n",
       "    <tr>\n",
       "      <th>date</th>\n",
       "      <th></th>\n",
       "      <th></th>\n",
       "    </tr>\n",
       "  </thead>\n",
       "  <tbody>\n",
       "    <tr>\n",
       "      <th>2020-04-05</th>\n",
       "      <td>43</td>\n",
       "      <td>False</td>\n",
       "    </tr>\n",
       "    <tr>\n",
       "      <th>2020-04-12</th>\n",
       "      <td>50</td>\n",
       "      <td>False</td>\n",
       "    </tr>\n",
       "    <tr>\n",
       "      <th>2020-04-19</th>\n",
       "      <td>45</td>\n",
       "      <td>False</td>\n",
       "    </tr>\n",
       "    <tr>\n",
       "      <th>2020-04-26</th>\n",
       "      <td>47</td>\n",
       "      <td>False</td>\n",
       "    </tr>\n",
       "    <tr>\n",
       "      <th>2020-05-03</th>\n",
       "      <td>37</td>\n",
       "      <td>False</td>\n",
       "    </tr>\n",
       "    <tr>\n",
       "      <th>...</th>\n",
       "      <td>...</td>\n",
       "      <td>...</td>\n",
       "    </tr>\n",
       "    <tr>\n",
       "      <th>2025-03-09</th>\n",
       "      <td>56</td>\n",
       "      <td>False</td>\n",
       "    </tr>\n",
       "    <tr>\n",
       "      <th>2025-03-16</th>\n",
       "      <td>60</td>\n",
       "      <td>False</td>\n",
       "    </tr>\n",
       "    <tr>\n",
       "      <th>2025-03-23</th>\n",
       "      <td>60</td>\n",
       "      <td>False</td>\n",
       "    </tr>\n",
       "    <tr>\n",
       "      <th>2025-03-30</th>\n",
       "      <td>62</td>\n",
       "      <td>False</td>\n",
       "    </tr>\n",
       "    <tr>\n",
       "      <th>2025-04-06</th>\n",
       "      <td>66</td>\n",
       "      <td>True</td>\n",
       "    </tr>\n",
       "  </tbody>\n",
       "</table>\n",
       "<p>262 rows × 2 columns</p>\n",
       "</div>"
      ],
      "text/plain": [
       "            Ferry  isPartial\n",
       "date                        \n",
       "2020-04-05     43      False\n",
       "2020-04-12     50      False\n",
       "2020-04-19     45      False\n",
       "2020-04-26     47      False\n",
       "2020-05-03     37      False\n",
       "...           ...        ...\n",
       "2025-03-09     56      False\n",
       "2025-03-16     60      False\n",
       "2025-03-23     60      False\n",
       "2025-03-30     62      False\n",
       "2025-04-06     66       True\n",
       "\n",
       "[262 rows x 2 columns]"
      ]
     },
     "execution_count": 24,
     "metadata": {},
     "output_type": "execute_result"
    }
   ],
   "source": [
    "\"\"\"pytrends = TrendReq(hl='en-US', tz=360, timeout=(15,30))\n",
    "\n",
    "kw_list = [\"Ferry\"]\n",
    "pytrends.build_payload(kw_list, cat=78, timeframe='today 5-y', geo='', gprop='')\n",
    "\n",
    "time.sleep(15)\n",
    "\n",
    "data = pytrends.interest_over_time()\n",
    "\n",
    "data \"\"\"\n",
    "\n"
   ]
  },
  {
   "cell_type": "code",
   "execution_count": null,
   "id": "c3fc295c",
   "metadata": {},
   "outputs": [],
   "source": [
    "# Read the CSV file with movie titles. Adjust the file path as needed.\n",
    "movies_df = pd.read_csv(\"movies.csv\")  # CSV must include a column named \"title\"\n",
    "\n",
    "# Initialize an empty list to collect result dataframes.\n",
    "all_data = []\n",
    "\n",
    "# Set up pytrends with the desired settings (using a timeout for connection and read)\n",
    "pytrends = TrendReq(hl='en-US', tz=360, timeout=(15,30))\n",
    "\n",
    "# Loop through each movie title in the CSV.\n",
    "for title in movies_df['title']:\n",
    "    kw_list = [title]\n",
    "    try:\n",
    "        # Build payload with the movie category (cat=78 for movies)\n",
    "        pytrends.build_payload(kw_list, cat=78, timeframe='today 5-y', geo='', gprop='')\n",
    "        \n",
    "        # Sleep to allow Google to recover (adjust timing based on your setup)\n",
    "        time.sleep(15)\n",
    "        \n",
    "        # Query interest over time\n",
    "        data = pytrends.interest_over_time()\n",
    "        \n",
    "        # Check if returned data is not empty\n",
    "        if not data.empty:\n",
    "            # Optional: Add a column to keep track of the movie title\n",
    "            data['movie_title'] = title\n",
    "            # Append the dataframe to our list\n",
    "            all_data.append(data)\n",
    "        else:\n",
    "            print(f\"No data returned for title: {title}\")\n",
    "        \n",
    "    except Exception as e:\n",
    "        # If an error occurs (e.g., rate limiting), output the error with the movie title.\n",
    "        print(f\"Error processing title '{title}': {e}\")\n",
    "\n",
    "# Combine all individual dataframes into one final dataframe\n",
    "if all_data:  # make sure there is at least one dataframe to concatenate\n",
    "    final_df = pd.concat(all_data)\n",
    "    # Optionally, save the combined dataframe to a new CSV file\n",
    "    final_df.to_csv(\"trend_results.csv\")\n",
    "    print(\"Combined DataFrame:\")\n",
    "    print(final_df.head())\n",
    "else:\n",
    "    print(\"No data was collected.\")"
   ]
  }
 ],
 "metadata": {
  "kernelspec": {
   "display_name": "dev",
   "language": "python",
   "name": "python3"
  },
  "language_info": {
   "codemirror_mode": {
    "name": "ipython",
    "version": 3
   },
   "file_extension": ".py",
   "mimetype": "text/x-python",
   "name": "python",
   "nbconvert_exporter": "python",
   "pygments_lexer": "ipython3",
   "version": "3.10.16"
  }
 },
 "nbformat": 4,
 "nbformat_minor": 5
}
