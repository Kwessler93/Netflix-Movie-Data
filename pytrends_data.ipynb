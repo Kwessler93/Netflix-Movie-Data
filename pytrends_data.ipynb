{
 "cells": [
  {
   "cell_type": "code",
   "execution_count": null,
   "id": "0898505a",
   "metadata": {},
   "outputs": [],
   "source": [
    "#pip install pytrends"
   ]
  },
  {
   "cell_type": "code",
   "execution_count": null,
   "id": "4d2318f8",
   "metadata": {},
   "outputs": [],
   "source": [
    "import pandas as pd\n",
    "from pytrends.request import TrendReq\n",
    "import time\n",
    "import json\n"
   ]
  },
  {
   "cell_type": "code",
   "execution_count": 26,
   "id": "965f1a8b",
   "metadata": {},
   "outputs": [
    {
     "data": {
      "text/html": [
       "<div>\n",
       "<style scoped>\n",
       "    .dataframe tbody tr th:only-of-type {\n",
       "        vertical-align: middle;\n",
       "    }\n",
       "\n",
       "    .dataframe tbody tr th {\n",
       "        vertical-align: top;\n",
       "    }\n",
       "\n",
       "    .dataframe thead th {\n",
       "        text-align: right;\n",
       "    }\n",
       "</style>\n",
       "<table border=\"1\" class=\"dataframe\">\n",
       "  <thead>\n",
       "    <tr style=\"text-align: right;\">\n",
       "      <th></th>\n",
       "      <th>Title</th>\n",
       "      <th>Year</th>\n",
       "      <th>IMDb Rating</th>\n",
       "      <th>IMDb Votes</th>\n",
       "    </tr>\n",
       "  </thead>\n",
       "  <tbody>\n",
       "    <tr>\n",
       "      <th>0</th>\n",
       "      <td>My Little Pony: A New Generation</td>\n",
       "      <td>2021</td>\n",
       "      <td>6.8</td>\n",
       "      <td>4,730</td>\n",
       "    </tr>\n",
       "    <tr>\n",
       "      <th>1</th>\n",
       "      <td>The Starling</td>\n",
       "      <td>2021</td>\n",
       "      <td>6.4</td>\n",
       "      <td>15,804</td>\n",
       "    </tr>\n",
       "    <tr>\n",
       "      <th>2</th>\n",
       "      <td>Je Suis Karl</td>\n",
       "      <td>2021</td>\n",
       "      <td>5.6</td>\n",
       "      <td>1,624</td>\n",
       "    </tr>\n",
       "    <tr>\n",
       "      <th>3</th>\n",
       "      <td>Confessions of an Invisible Girl</td>\n",
       "      <td>2021</td>\n",
       "      <td>5.3</td>\n",
       "      <td>1,438</td>\n",
       "    </tr>\n",
       "    <tr>\n",
       "      <th>4</th>\n",
       "      <td>Intrusion</td>\n",
       "      <td>2021</td>\n",
       "      <td>5.3</td>\n",
       "      <td>22,287</td>\n",
       "    </tr>\n",
       "  </tbody>\n",
       "</table>\n",
       "</div>"
      ],
      "text/plain": [
       "                              Title  Year  IMDb Rating IMDb Votes\n",
       "0  My Little Pony: A New Generation  2021          6.8      4,730\n",
       "1                      The Starling  2021          6.4     15,804\n",
       "2                      Je Suis Karl  2021          5.6      1,624\n",
       "3  Confessions of an Invisible Girl  2021          5.3      1,438\n",
       "4                         Intrusion  2021          5.3     22,287"
      ]
     },
     "execution_count": 26,
     "metadata": {},
     "output_type": "execute_result"
    }
   ],
   "source": [
    "# Read the CSV file with movie titles. Adjust the file path as needed.\n",
    "movies_df = pd.read_csv(\"omdb_movie_data.csv\")  # CSV must include a column named \"title\"\n",
    "movies_df.head()"
   ]
  },
  {
   "cell_type": "code",
   "execution_count": null,
   "id": "c3fc295c",
   "metadata": {},
   "outputs": [
    {
     "name": "stdout",
     "output_type": "stream",
     "text": [
      "No data returned for title: My Little Pony: A New Generation\n",
      "No data returned for title: Je Suis Karl\n",
      "No data returned for title: Confessions of an Invisible Girl\n",
      "No data returned for title: The Father Who Moves Mountains\n",
      "No data returned for title: A StoryBots Space Adventure\n"
     ]
    },
    {
     "ename": "KeyboardInterrupt",
     "evalue": "",
     "output_type": "error",
     "traceback": [
      "\u001b[1;31m---------------------------------------------------------------------------\u001b[0m",
      "\u001b[1;31mKeyboardInterrupt\u001b[0m                         Traceback (most recent call last)",
      "Cell \u001b[1;32mIn[29], line 15\u001b[0m\n\u001b[0;32m     12\u001b[0m pytrends\u001b[38;5;241m.\u001b[39mbuild_payload(kw_list, cat\u001b[38;5;241m=\u001b[39m\u001b[38;5;241m78\u001b[39m, timeframe \u001b[38;5;241m=\u001b[39m \u001b[38;5;124m'\u001b[39m\u001b[38;5;124m2021-01-01 2023-12-31\u001b[39m\u001b[38;5;124m'\u001b[39m, geo\u001b[38;5;241m=\u001b[39m\u001b[38;5;124m'\u001b[39m\u001b[38;5;124m'\u001b[39m, gprop\u001b[38;5;241m=\u001b[39m\u001b[38;5;124m'\u001b[39m\u001b[38;5;124m'\u001b[39m)\n\u001b[0;32m     14\u001b[0m \u001b[38;5;66;03m# Sleep to allow Google to recover (adjust timing based on your setup)\u001b[39;00m\n\u001b[1;32m---> 15\u001b[0m \u001b[43mtime\u001b[49m\u001b[38;5;241;43m.\u001b[39;49m\u001b[43msleep\u001b[49m\u001b[43m(\u001b[49m\u001b[38;5;241;43m15\u001b[39;49m\u001b[43m)\u001b[49m\n\u001b[0;32m     17\u001b[0m \u001b[38;5;66;03m# Query interest over time\u001b[39;00m\n\u001b[0;32m     18\u001b[0m data \u001b[38;5;241m=\u001b[39m pytrends\u001b[38;5;241m.\u001b[39minterest_over_time()\n",
      "\u001b[1;31mKeyboardInterrupt\u001b[0m: "
     ]
    }
   ],
   "source": [
    "\n",
    "\n",
    "# Initialize an empty list to collect result dataframes.\n",
    "all_data = []\n",
    "\n",
    "# Set up pytrends with the desired settings (using a timeout for connection and read)\n",
    "pytrends = TrendReq(hl='en-US', tz=360, timeout=(30,60))\n",
    "\n",
    "# Loop through each movie title in the CSV.\n",
    "for title in movies_df['Title']:\n",
    "    kw_list = [title]\n",
    "    try:\n",
    "        # Build payload with the movie category (cat=78 for movies)\n",
    "        pytrends.build_payload(kw_list, cat=78, timeframe='today 5-y', geo='', gprop='')\n",
    "        \n",
    "        # Sleep to allow Google to recover (adjust timing based on your setup)\n",
    "        time.sleep(15)\n",
    "        \n",
    "        # Query interest over time\n",
    "        data = pytrends.interest_over_time()\n",
    "        \n",
    "        # Check if returned data is not empty\n",
    "        if not data.empty:\n",
    "            # Optional: Add a column to keep track of the movie title\n",
    "            data['movie_title'] = title\n",
    "            # Append the dataframe to our list\n",
    "            all_data.append(data)\n",
    "        else:\n",
    "            print(f\"No data returned for title: {title}\")\n",
    "        \n",
    "    except Exception as e:\n",
    "        # If an error occurs (e.g., rate limiting), output the error with the movie title.\n",
    "        print(f\"Error processing title '{title}': {e}\")\n",
    "\n",
    "# Combine all individual dataframes into one final dataframe\n",
    "if all_data:  # make sure there is at least one dataframe to concatenate\n",
    "    final_df = pd.concat(all_data)\n",
    "    # Optionally, save the combined dataframe to a new CSV file\n",
    "    final_df.to_csv(\"trend_results.csv\")\n",
    "    print(\"Combined DataFrame:\")\n",
    "    print(final_df.head())\n",
    "else:\n",
    "    print(\"No data was collected.\")"
   ]
  },
  {
   "cell_type": "code",
   "execution_count": null,
   "id": "c7667593",
   "metadata": {},
   "outputs": [],
   "source": [
    "all_data"
   ]
  },
  {
   "cell_type": "code",
   "execution_count": null,
   "id": "05bd4a82",
   "metadata": {},
   "outputs": [],
   "source": [
    "normalized_data = []\n",
    "\n",
    "for df in all_data:\n",
    "    if not df.empty:\n",
    "        df = df.reset_index()  # Move 'date' from index to a column\n",
    "        df = df.rename(columns={df.columns[1]: 'trend'})  # Rename movie title column to 'trend'\n",
    "        df = df[['date', 'movie_title', 'trend']]  # Keep only needed columns\n",
    "        normalized_data.append(df)"
   ]
  },
  {
   "cell_type": "code",
   "execution_count": null,
   "id": "fb9f49c2",
   "metadata": {},
   "outputs": [],
   "source": [
    "final_df = pd.concat(normalized_data, ignore_index=True)\n",
    "final_df = final_df.sort_values(by=['movie_title', 'date']).reset_index(drop=True)"
   ]
  },
  {
   "cell_type": "code",
   "execution_count": null,
   "id": "7212354a",
   "metadata": {},
   "outputs": [],
   "source": [
    "grouped_json = final_df.groupby('movie_title').apply(\n",
    "    lambda x: x.assign(date=x['date'].dt.strftime('%Y-%m-%d'))[['date', 'trend']].to_dict(orient='records')\n",
    ").to_dict()"
   ]
  },
  {
   "cell_type": "code",
   "execution_count": null,
   "id": "388894a3",
   "metadata": {},
   "outputs": [],
   "source": [
    "final_df.to_csv('movie_trends.csv', index=False)"
   ]
  },
  {
   "cell_type": "code",
   "execution_count": null,
   "id": "7cc551d7",
   "metadata": {},
   "outputs": [],
   "source": [
    "with open('movie_trends.json', 'w') as f:\n",
    "    json.dump(grouped_json, f, indent=4)"
   ]
  }
 ],
 "metadata": {
  "kernelspec": {
   "display_name": "dev",
   "language": "python",
   "name": "python3"
  },
  "language_info": {
   "codemirror_mode": {
    "name": "ipython",
    "version": 3
   },
   "file_extension": ".py",
   "mimetype": "text/x-python",
   "name": "python",
   "nbconvert_exporter": "python",
   "pygments_lexer": "ipython3",
   "version": "3.10.16"
  }
 },
 "nbformat": 4,
 "nbformat_minor": 5
}
