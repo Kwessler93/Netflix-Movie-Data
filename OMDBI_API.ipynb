{
 "cells": [
  {
   "cell_type": "code",
   "execution_count": null,
   "metadata": {},
   "outputs": [],
   "source": [
    "import pandas as pd\n",
    "import requests\n",
    "import csv\n",
    "\n",
    "# Your OMDb API Key\n",
    "API_KEY = 'your_api_key_here'\n",
    "\n",
    "# Load movie titles from CSV\n",
    "df = pd.read_csv('Netflix files.csv')  # Adjust path if needed\n",
    "movie_titles = df['title'].dropna().unique()\n",
    "\n",
    "# Function to fetch data from OMDb\n",
    "def fetch_movie_data(title):\n",
    "    url = f'http://www.omdbapi.com/?apikey={API_KEY}&t={title}'\n",
    "    response = requests.get(url)\n",
    "    data = response.json()\n",
    "    \n",
    "    if data.get('Response') == 'True':\n",
    "        return {\n",
    "            'Title': data.get('Title'),\n",
    "            'Year': data.get('Year'),\n",
    "            'IMDb Rating': data.get('imdbRating'),\n",
    "            'IMDb Votes': data.get('imdbVotes'),\n",
    "            'Metascore': data.get('Metascore')\n",
    "        }\n",
    "    else:\n",
    "        print(f\"Movie not found: {title}\")\n",
    "        return None\n",
    "\n",
    "# Create and write to CSV\n",
    "with open('omdb_movie_data.csv', mode='w', newline='', encoding='utf-8') as file:\n",
    "    writer = csv.DictWriter(file, fieldnames=['Title', 'Year', 'IMDb Rating', 'IMDb Votes', 'Metascore'])\n",
    "    writer.writeheader()\n",
    "\n",
    "    for title in movie_titles:\n",
    "        movie_data = fetch_movie_data(title)\n",
    "        if movie_data:\n",
    "            writer.writerow(movie_data)\n",
    "\n",
    "print(\"Done! Movie data written to 'omdb_movie_data.csv'\")\n"
   ]
  }
 ],
 "metadata": {
  "kernelspec": {
   "display_name": "dev",
   "language": "python",
   "name": "python3"
  },
  "language_info": {
   "name": "python",
   "version": "3.10.16"
  }
 },
 "nbformat": 4,
 "nbformat_minor": 2
}
