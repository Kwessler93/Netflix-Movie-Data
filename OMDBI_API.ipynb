{
 "cells": [
  {
   "cell_type": "code",
   "execution_count": 10,
   "metadata": {},
   "outputs": [],
   "source": [
    "import pandas as pd\n",
    "import requests\n",
    "import csv\n",
    "from urllib.parse import quote\n",
    "\n",
    "# Your OMDb API Key\n",
    "from api_keys import omdb_api_key"
   ]
  },
  {
   "cell_type": "code",
   "execution_count": 6,
   "metadata": {},
   "outputs": [],
   "source": [
    "# Load movie titles from CSV\n",
    "df = pd.read_csv('Netflix files.csv')  # Adjust path if needed\n",
    "movie_titles = df['title'].dropna().unique()"
   ]
  },
  {
   "cell_type": "code",
   "execution_count": 7,
   "metadata": {},
   "outputs": [],
   "source": [
    "# Function to fetch data from OMDb\n",
    "def fetch_movie_data(title):\n",
    "    url = f'http://www.omdbapi.com/?apikey={omdb_api_key}&t={quote(title)}'\n",
    "    response = requests.get(url)\n",
    "\n",
    "    if response.status_code != 200:\n",
    "        print(f\"Error fetching {title}: Status code {response.status_code}\")\n",
    "        return None\n",
    "\n",
    "    data = response.json()\n",
    "    \n",
    "    if data.get('Response') == 'True':\n",
    "        return {\n",
    "            'Title': data.get('Title'),\n",
    "            'Year': data.get('Year'),\n",
    "            'IMDb Rating': data.get('imdbRating'),\n",
    "            'IMDb Votes': data.get('imdbVotes')\n",
    "        }\n",
    "    else:\n",
    "        print(f\"Movie not found: {title}\")\n",
    "        return None"
   ]
  },
  {
   "cell_type": "code",
   "execution_count": 9,
   "metadata": {},
   "outputs": [
    {
     "name": "stdout",
     "output_type": "stream",
     "text": [
      "Movie not found: Little Singham - Black Shadow\n",
      "Movie not found: Tughlaq Durbar (Telugu)\n",
      "Movie not found: Firedrake the Silver Dragon\n",
      "Movie not found: Untold: Crime & Penalties\n",
      "Movie not found: Boomika (Hindi)\n",
      "Movie not found: Boomika (Malayalam)\n",
      "Movie not found: Boomika (Telugu)\n",
      "Movie not found: I missed you: Director's Cut\n",
      "Movie not found: Rurouni Kenshin: The Beginning\n",
      "Movie not found: Fear Street Part 3: 1666\n",
      "Movie not found: Bridgerton - The Afterparty\n",
      "Movie not found: Fear Street Part 2: 1978\n",
      "Movie not found: How I Became a Superhero\n",
      "Movie not found: Fear Street Part 1: 1994\n",
      "Movie not found: Rurouni Kenshin: The Final\n",
      "Movie not found: Ali & Ratu Ratu Queens\n",
      "Movie not found: Bling Empire - The Afterparty\n",
      "Movie not found: Cobra Kai - The Afterparty\n",
      "Movie not found: To All the Boys: Always and Forever - The Afterparty\n",
      "Movie not found: Black Holes | The Edge of All We Know\n",
      "Movie not found: Dog Gone Trouble\n",
      "Movie not found: 99 Songs (Tamil)\n",
      "Movie not found: 99 Songs (Telugu)\n",
      "Movie not found: Little Singham Future mein Satakli\n",
      "Movie not found: The Upshaws - The Afterparty\n",
      "Movie not found: Dance of the Forty One\n",
      "Movie not found: The Circle - The Afterparty\n",
      "Movie not found: Shadow and Bone - The Afterparty\n",
      "Movie not found: Heroes: Silence and Rock & Roll\n",
      "Movie not found: Dad Stop Embarrassing Me - The Afterparty\n",
      "Movie not found: Tuesdays & Fridays\n",
      "Movie not found: Get the Goat\n",
      "Movie not found: Operation Varsity Blues: The College Admissions Scandal\n",
      "Movie not found: Coven of Sisters\n",
      "Movie not found: Blanche Gardin: The All-Nighter\n",
      "Movie not found: Ginny & Georgia - The Afterparty\n",
      "Movie not found: June & Kopi\n",
      "Movie not found: Tribhanga - Tedhi Medhi Crazy\n",
      "Movie not found: Ratones Paranoicos: The Band that Rocked Argentina\n",
      "Done! Movie data written to 'omdb_movie_data.csv'\n"
     ]
    }
   ],
   "source": [
    "\n",
    "# Create and write to CSV\n",
    "with open('omdb_movie_data.csv', mode='w', newline='', encoding='utf-8') as file:\n",
    "    writer = csv.DictWriter(file, fieldnames=['Title', 'Year', 'IMDb Rating', 'IMDb Votes'])\n",
    "    writer.writeheader()\n",
    "\n",
    "    for title in movie_titles:\n",
    "        movie_data = fetch_movie_data(title)\n",
    "        if movie_data:\n",
    "            writer.writerow(movie_data)\n",
    "\n",
    "print(\"Done! Movie data written to 'omdb_movie_data.csv'\")\n"
   ]
  },
  {
   "cell_type": "code",
   "execution_count": null,
   "metadata": {},
   "outputs": [
    {
     "name": "stdout",
     "output_type": "stream",
     "text": [
      "✅ Cleaned & merged CSV saved as 'cleaned_merged_movies.csv'\n"
     ]
    }
   ],
   "source": [
    "#clean and merge netflix data and omdb data\n",
    "\n",
    "# Load CSV files\n",
    "omdb_df = pd.read_csv(\"omdb_movie_data.csv\")\n",
    "netflix_df = pd.read_csv(\"Netflix files.csv\")\n",
    "\n",
    "# Standardize column names\n",
    "omdb_df.columns = omdb_df.columns.str.strip().str.lower().str.replace(\" \", \"_\")\n",
    "netflix_df.columns = netflix_df.columns.str.strip().str.lower().str.replace(\" \", \"_\")\n",
    "\n",
    "# Clean and convert OMDB data\n",
    "omdb_df['imdb_votes'] = omdb_df['imdb_votes'].str.replace(\",\", \"\").astype(int)\n",
    "omdb_df['imdb_rating'] = omdb_df['imdb_rating'].astype(float)\n",
    "\n",
    "# Convert Netflix duration to numeric (minutes only)\n",
    "def extract_minutes(duration):\n",
    "    if isinstance(duration, str) and \"min\" in duration:\n",
    "        try:\n",
    "            return int(duration.split(\" \")[0])\n",
    "        except:\n",
    "            return None\n",
    "    return None\n",
    "\n",
    "netflix_df['duration_minutes'] = netflix_df['duration'].apply(extract_minutes)\n",
    "\n",
    "# Only keep rows in Netflix that are also in OMDB\n",
    "merged_df = pd.merge(netflix_df, omdb_df, how='inner', on='title')\n",
    "\n",
    "# Keep only Netflix columns that match with OMDB (plus useful ones)\n",
    "columns_to_keep = ['title', 'director', 'cast', 'rating', 'duration_minutes', 'description']\n",
    "merged_df = merged_df[columns_to_keep + ['year', 'imdb_rating', 'imdb_votes']]\n",
    "\n",
    "# Save the cleaned and merged data\n",
    "merged_df.to_csv(\"cleaned_merged_movies.csv\", index=False)\n",
    "\n",
    "print(\"✅ Cleaned & merged CSV saved as 'cleaned_merged_movies.csv'\")\n"
   ]
  }
 ],
 "metadata": {
  "kernelspec": {
   "display_name": "dev",
   "language": "python",
   "name": "python3"
  },
  "language_info": {
   "codemirror_mode": {
    "name": "ipython",
    "version": 3
   },
   "file_extension": ".py",
   "mimetype": "text/x-python",
   "name": "python",
   "nbconvert_exporter": "python",
   "pygments_lexer": "ipython3",
   "version": "3.10.16"
  }
 },
 "nbformat": 4,
 "nbformat_minor": 2
}
